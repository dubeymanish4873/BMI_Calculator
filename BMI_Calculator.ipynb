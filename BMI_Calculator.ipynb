{
 "cells": [
  {
   "cell_type": "code",
   "execution_count": 6,
   "id": "f3205a15",
   "metadata": {},
   "outputs": [
    {
     "name": "stdout",
     "output_type": "stream",
     "text": [
      "Enter the weight in pounds:\n",
      "75\n",
      "Enter the height in inches:\n",
      "6.9\n",
      "Enter your name:\n",
      "Rohan\n",
      "BMI Report:\n",
      "\n"
     ]
    }
   ],
   "source": [
    "weight=int(input(\"Enter the weight in pounds:\\n\"))\n",
    "height=float(input(\"Enter the height in inches:\\n\"))\n",
    "name=input(\"Enter your name:\\n\")\n",
    "print(\"BMI Report:\\n\")"
   ]
  },
  {
   "cell_type": "code",
   "execution_count": 7,
   "id": "6b7f14ef",
   "metadata": {},
   "outputs": [
    {
     "name": "stdout",
     "output_type": "stream",
     "text": [
      "Morbidly ObeseHealth Risk: Extremely High\n",
      "\n"
     ]
    }
   ],
   "source": [
    "BMI=(weight*703)/(height**2)\n",
    "if(BMI<18.5):\n",
    "    print(\"Underweight\\n\"+\"Health Risk: Minimal\\n\")\n",
    "elif(BMI>=18.5 and BMI<=24.9):\n",
    "    print(\"Normalweight\\n\"+\"Health Risk: Minimal\\n\")\n",
    "elif(BMI>=25 and BMI<=29.9):\n",
    "    print(\"Overweight\\n\"+\"Health Risk: Increased\\n\")\n",
    "elif(BMI>=30 and BMI<=34.9):\n",
    "    print(\"Obese\"+\"Health Risk: High\\n\")\n",
    "elif(BMI>=35 and BMI<=39.9):\n",
    "    print(\"Severely Obese\"+\"Health Risk: Very High\\n\")\n",
    "else:\n",
    "    print(\"Morbidly Obese\"+\"Health Risk: Extremely High\\n\")"
   ]
  },
  {
   "cell_type": "code",
   "execution_count": null,
   "id": "db75d782",
   "metadata": {},
   "outputs": [],
   "source": []
  },
  {
   "cell_type": "code",
   "execution_count": null,
   "id": "4e535464",
   "metadata": {},
   "outputs": [],
   "source": []
  },
  {
   "cell_type": "code",
   "execution_count": null,
   "id": "45c6bf17",
   "metadata": {},
   "outputs": [],
   "source": []
  }
 ],
 "metadata": {
  "kernelspec": {
   "display_name": "Python 3 (ipykernel)",
   "language": "python",
   "name": "python3"
  },
  "language_info": {
   "codemirror_mode": {
    "name": "ipython",
    "version": 3
   },
   "file_extension": ".py",
   "mimetype": "text/x-python",
   "name": "python",
   "nbconvert_exporter": "python",
   "pygments_lexer": "ipython3",
   "version": "3.11.1"
  }
 },
 "nbformat": 4,
 "nbformat_minor": 5
}
